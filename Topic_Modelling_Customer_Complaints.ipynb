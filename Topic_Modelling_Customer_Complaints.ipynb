{
 "cells": [
  {
   "cell_type": "markdown",
   "metadata": {},
   "source": [
    "# LDA based Topic Modelling for categorizing Customer Complaints\n",
    "\n",
    "**1. Problem Statement:**\n",
    "\n",
    "For a company, analyzing customer complaints is the best way to know how its products or services are performing. Often times companies use narrowly defined set of rules to categorise complaints but in reality the complaints data submitted by customers / consumers depicts another story. When consumers log a complaint, they are unaware of the business terminologies that the companies uses to categorise a complaint. In a hurry consumers pick a category that seems close to the options provided or they pick a group defined as others. Most of the complaints are categorised wrongly. This wrong classification results in routing complaints to wrong groups to resolve the complaints. The wrong classification also leads to a longer waiting time and incomplete resolution of complaints leading to customer dissatisfaction.  Indirectly it hits the bottom line of a company.\n",
    "\n",
    "**1.1. About the problem:**\n",
    "\n",
    "The problem is an unsupervised learning problem. Hence, we can use LDA to reclassify customer complaints based on the exact language used in the complaints. TF-IDF algorithm can help us find words with more weightage. Combining TF-IDF and LDA algorithms we could find NLP recommended word themes. Our goal is to find the root causes of complaints quicker and label the categories accuratley. This can help route the complaints to the right group for quicker resolution.\n",
    "\n",
    "To improve the accuracy, we aim to build a customised knowledge graph for all the complaints using cosine similarity metric."
   ]
  },
  {
   "cell_type": "markdown",
   "metadata": {},
   "source": [
    "## Dataset Description:**\n",
    "\n",
    "The dataset comprises of Consumer Complaints on Financial Products. \n",
    "\n",
    "Each week the CFPB sends thousands of consumers’ complaints about financial products and services to companies for response. Those complaints are published here after the company responds.  By adding their voice consumers help improve the finanacial market place.\n",
    "\n",
    "The dataset has complaints belonging to categories such as \n",
    "- Debt collection, \n",
    "- Consumer loan, \n",
    "- Mortgage, \n",
    "- Credit card, \n",
    "- Credit reporting, \n",
    "- Student loan, \n",
    "- Bank account or service, \n",
    "- Payday loan, \n",
    "- Money transfers, and \n",
    "- other financial products.\n",
    "\n",
    "There are five steps to submit a complaint:\n",
    "\n",
    "Step 1: What is this complaint about?\n",
    "\n",
    "Step 2: What type of problem are you having?\n",
    "\n",
    "Step 3: What happened?\n",
    "\n",
    "Step 4: What company is this complaint about?\n",
    "\n",
    "Step 5: Who are the people involved?\n",
    "\n",
    "Our data set has information about the above five questions. The data set also has information about dates, amounts, and other details about the complaint such as billing statements or letters from the company. \n",
    "\n",
    "The dataset is available in the link https://www.kaggle.com/cfpb/us-consumer-finance-complaints"
   ]
  },
  {
   "cell_type": "code",
   "execution_count": 2,
   "metadata": {},
   "outputs": [],
   "source": [
    "import os\n",
    "import numpy as np\n",
    "import pandas as pd\n",
    "import re\n",
    "from tqdm import tqdm\n",
    "# import nltk\n",
    "\n",
    "from nltk.chunk.regexp import RegexpParser\n",
    "from nltk import word_tokenize\n",
    "from nltk import pos_tag\n",
    "from nltk.chunk import tree2conlltags\n",
    "from nltk.tokenize import RegexpTokenizer\n",
    "from nltk.stem.wordnet import WordNetLemmatizer\n",
    "from nltk.corpus import stopwords\n",
    "\n",
    "#import gensim\n",
    "\n",
    "from gensim.models import Phrases\n",
    "from gensim.models import phrases\n",
    "\n",
    "from gensim.models.phrases import Phraser\n",
    "\n",
    "from gensim.corpora import Dictionary\n",
    "from gensim.models import CoherenceModel\n",
    "\n",
    "\n",
    "from gensim.models import LdaModel\n",
    "from gensim.models import LdaMulticore\n",
    "\n",
    "import itertools\n",
    "\n",
    "from gensim.models.callbacks import PerplexityMetric\n",
    "\n",
    "#os.environ.update({'MALLET_HOME':r'mallet-2.0.8/'}) \n",
    "#MALLET_PATH = r'mallet-2.0.8/bin/mallet' "
   ]
  },
  {
   "cell_type": "code",
   "execution_count": 3,
   "metadata": {},
   "outputs": [
    {
     "name": "stdout",
     "output_type": "stream",
     "text": [
      "Shape of orginal dataset is: (2267979, 18)\n",
      "Shape of Training dataset is: (60000, 18)\n",
      "Shape of Test dataset is: (2207978, 18)\n"
     ]
    }
   ],
   "source": [
    "data_org = pd.read_csv('http://files.consumerfinance.gov/ccdb/complaints.csv.zip', compression = 'zip')\n",
    "print(\"Shape of orginal dataset is:\", data_org.shape)\n",
    "train_x, test_x = data_org.iloc[:60000,:], data_org.iloc[60001:, :]\n",
    "print(\"Shape of Training dataset is:\", train_x.shape)\n",
    "print(\"Shape of Test dataset is:\", test_x.shape)\n"
   ]
  },
  {
   "cell_type": "code",
   "execution_count": 4,
   "metadata": {},
   "outputs": [
    {
     "name": "stdout",
     "output_type": "stream",
     "text": [
      "Index(['Date received', 'Product', 'Sub-product', 'Issue', 'Sub-issue',\n",
      "       'Consumer complaint narrative', 'Company public response', 'Company',\n",
      "       'State', 'ZIP code', 'Tags', 'Consumer consent provided?',\n",
      "       'Submitted via', 'Date sent to company', 'Company response to consumer',\n",
      "       'Timely response?', 'Consumer disputed?', 'Complaint ID'],\n",
      "      dtype='object')\n"
     ]
    },
    {
     "data": {
      "text/html": [
       "<div>\n",
       "<style scoped>\n",
       "    .dataframe tbody tr th:only-of-type {\n",
       "        vertical-align: middle;\n",
       "    }\n",
       "\n",
       "    .dataframe tbody tr th {\n",
       "        vertical-align: top;\n",
       "    }\n",
       "\n",
       "    .dataframe thead th {\n",
       "        text-align: right;\n",
       "    }\n",
       "</style>\n",
       "<table border=\"1\" class=\"dataframe\">\n",
       "  <thead>\n",
       "    <tr style=\"text-align: right;\">\n",
       "      <th></th>\n",
       "      <th>Date received</th>\n",
       "      <th>Product</th>\n",
       "      <th>Sub-product</th>\n",
       "      <th>Issue</th>\n",
       "      <th>Sub-issue</th>\n",
       "      <th>Consumer complaint narrative</th>\n",
       "      <th>Company public response</th>\n",
       "      <th>Company</th>\n",
       "      <th>State</th>\n",
       "      <th>ZIP code</th>\n",
       "      <th>Tags</th>\n",
       "      <th>Consumer consent provided?</th>\n",
       "      <th>Submitted via</th>\n",
       "      <th>Date sent to company</th>\n",
       "      <th>Company response to consumer</th>\n",
       "      <th>Timely response?</th>\n",
       "      <th>Consumer disputed?</th>\n",
       "      <th>Complaint ID</th>\n",
       "    </tr>\n",
       "  </thead>\n",
       "  <tbody>\n",
       "    <tr>\n",
       "      <th>0</th>\n",
       "      <td>2019-06-13</td>\n",
       "      <td>Credit reporting, credit repair services, or o...</td>\n",
       "      <td>Credit reporting</td>\n",
       "      <td>Incorrect information on your report</td>\n",
       "      <td>Information belongs to someone else</td>\n",
       "      <td>NaN</td>\n",
       "      <td>NaN</td>\n",
       "      <td>CAPITAL ONE FINANCIAL CORPORATION</td>\n",
       "      <td>PA</td>\n",
       "      <td>186XX</td>\n",
       "      <td>NaN</td>\n",
       "      <td>Consent not provided</td>\n",
       "      <td>Web</td>\n",
       "      <td>2019-06-13</td>\n",
       "      <td>Closed with explanation</td>\n",
       "      <td>Yes</td>\n",
       "      <td>NaN</td>\n",
       "      <td>3274605</td>\n",
       "    </tr>\n",
       "    <tr>\n",
       "      <th>1</th>\n",
       "      <td>2019-11-01</td>\n",
       "      <td>Vehicle loan or lease</td>\n",
       "      <td>Loan</td>\n",
       "      <td>Struggling to pay your loan</td>\n",
       "      <td>Denied request to lower payments</td>\n",
       "      <td>I contacted Ally on Friday XX/XX/XXXX after fa...</td>\n",
       "      <td>Company has responded to the consumer and the ...</td>\n",
       "      <td>ALLY FINANCIAL INC.</td>\n",
       "      <td>NJ</td>\n",
       "      <td>088XX</td>\n",
       "      <td>NaN</td>\n",
       "      <td>Consent provided</td>\n",
       "      <td>Web</td>\n",
       "      <td>2019-11-01</td>\n",
       "      <td>Closed with explanation</td>\n",
       "      <td>Yes</td>\n",
       "      <td>NaN</td>\n",
       "      <td>3425257</td>\n",
       "    </tr>\n",
       "    <tr>\n",
       "      <th>2</th>\n",
       "      <td>2019-04-01</td>\n",
       "      <td>Credit reporting, credit repair services, or o...</td>\n",
       "      <td>Credit reporting</td>\n",
       "      <td>Incorrect information on your report</td>\n",
       "      <td>Account status incorrect</td>\n",
       "      <td>NaN</td>\n",
       "      <td>Company has responded to the consumer and the ...</td>\n",
       "      <td>TRANSUNION INTERMEDIATE HOLDINGS, INC.</td>\n",
       "      <td>PA</td>\n",
       "      <td>19067</td>\n",
       "      <td>NaN</td>\n",
       "      <td>Consent not provided</td>\n",
       "      <td>Web</td>\n",
       "      <td>2019-04-01</td>\n",
       "      <td>Closed with explanation</td>\n",
       "      <td>Yes</td>\n",
       "      <td>NaN</td>\n",
       "      <td>3198225</td>\n",
       "    </tr>\n",
       "    <tr>\n",
       "      <th>3</th>\n",
       "      <td>2020-06-10</td>\n",
       "      <td>Credit reporting, credit repair services, or o...</td>\n",
       "      <td>Credit reporting</td>\n",
       "      <td>Improper use of your report</td>\n",
       "      <td>Credit inquiries on your report that you don't...</td>\n",
       "      <td>I am a victim of Identity Theft &amp; currently ha...</td>\n",
       "      <td>Company has responded to the consumer and the ...</td>\n",
       "      <td>Experian Information Solutions Inc.</td>\n",
       "      <td>MT</td>\n",
       "      <td>NaN</td>\n",
       "      <td>Servicemember</td>\n",
       "      <td>Consent provided</td>\n",
       "      <td>Web</td>\n",
       "      <td>2020-06-10</td>\n",
       "      <td>Closed with explanation</td>\n",
       "      <td>Yes</td>\n",
       "      <td>NaN</td>\n",
       "      <td>3692762</td>\n",
       "    </tr>\n",
       "    <tr>\n",
       "      <th>4</th>\n",
       "      <td>2021-09-18</td>\n",
       "      <td>Credit reporting, credit repair services, or o...</td>\n",
       "      <td>Credit reporting</td>\n",
       "      <td>Incorrect information on your report</td>\n",
       "      <td>Information belongs to someone else</td>\n",
       "      <td>NaN</td>\n",
       "      <td>NaN</td>\n",
       "      <td>EQUIFAX, INC.</td>\n",
       "      <td>AL</td>\n",
       "      <td>35042</td>\n",
       "      <td>NaN</td>\n",
       "      <td>NaN</td>\n",
       "      <td>Web</td>\n",
       "      <td>2021-09-18</td>\n",
       "      <td>In progress</td>\n",
       "      <td>Yes</td>\n",
       "      <td>NaN</td>\n",
       "      <td>4731551</td>\n",
       "    </tr>\n",
       "  </tbody>\n",
       "</table>\n",
       "</div>"
      ],
      "text/plain": [
       "  Date received                                            Product  \\\n",
       "0    2019-06-13  Credit reporting, credit repair services, or o...   \n",
       "1    2019-11-01                              Vehicle loan or lease   \n",
       "2    2019-04-01  Credit reporting, credit repair services, or o...   \n",
       "3    2020-06-10  Credit reporting, credit repair services, or o...   \n",
       "4    2021-09-18  Credit reporting, credit repair services, or o...   \n",
       "\n",
       "        Sub-product                                 Issue  \\\n",
       "0  Credit reporting  Incorrect information on your report   \n",
       "1              Loan           Struggling to pay your loan   \n",
       "2  Credit reporting  Incorrect information on your report   \n",
       "3  Credit reporting           Improper use of your report   \n",
       "4  Credit reporting  Incorrect information on your report   \n",
       "\n",
       "                                           Sub-issue  \\\n",
       "0                Information belongs to someone else   \n",
       "1                   Denied request to lower payments   \n",
       "2                           Account status incorrect   \n",
       "3  Credit inquiries on your report that you don't...   \n",
       "4                Information belongs to someone else   \n",
       "\n",
       "                        Consumer complaint narrative  \\\n",
       "0                                                NaN   \n",
       "1  I contacted Ally on Friday XX/XX/XXXX after fa...   \n",
       "2                                                NaN   \n",
       "3  I am a victim of Identity Theft & currently ha...   \n",
       "4                                                NaN   \n",
       "\n",
       "                             Company public response  \\\n",
       "0                                                NaN   \n",
       "1  Company has responded to the consumer and the ...   \n",
       "2  Company has responded to the consumer and the ...   \n",
       "3  Company has responded to the consumer and the ...   \n",
       "4                                                NaN   \n",
       "\n",
       "                                  Company State ZIP code           Tags  \\\n",
       "0       CAPITAL ONE FINANCIAL CORPORATION    PA    186XX            NaN   \n",
       "1                     ALLY FINANCIAL INC.    NJ    088XX            NaN   \n",
       "2  TRANSUNION INTERMEDIATE HOLDINGS, INC.    PA    19067            NaN   \n",
       "3     Experian Information Solutions Inc.    MT      NaN  Servicemember   \n",
       "4                           EQUIFAX, INC.    AL    35042            NaN   \n",
       "\n",
       "  Consumer consent provided? Submitted via Date sent to company  \\\n",
       "0       Consent not provided           Web           2019-06-13   \n",
       "1           Consent provided           Web           2019-11-01   \n",
       "2       Consent not provided           Web           2019-04-01   \n",
       "3           Consent provided           Web           2020-06-10   \n",
       "4                        NaN           Web           2021-09-18   \n",
       "\n",
       "  Company response to consumer Timely response? Consumer disputed?  \\\n",
       "0      Closed with explanation              Yes                NaN   \n",
       "1      Closed with explanation              Yes                NaN   \n",
       "2      Closed with explanation              Yes                NaN   \n",
       "3      Closed with explanation              Yes                NaN   \n",
       "4                  In progress              Yes                NaN   \n",
       "\n",
       "   Complaint ID  \n",
       "0       3274605  \n",
       "1       3425257  \n",
       "2       3198225  \n",
       "3       3692762  \n",
       "4       4731551  "
      ]
     },
     "execution_count": 4,
     "metadata": {},
     "output_type": "execute_result"
    }
   ],
   "source": [
    "print(data_org.columns)\n",
    "data_org.head()"
   ]
  },
  {
   "cell_type": "code",
   "execution_count": 5,
   "metadata": {},
   "outputs": [
    {
     "name": "stdout",
     "output_type": "stream",
     "text": [
      "Complaint :1 ----------------------------------------------------------\n",
      "nan\n",
      "\n",
      "Complaint :2 ----------------------------------------------------------\n",
      "I contacted Ally on Friday XX/XX/XXXX after falling behind on payments due to being out of work for a short period of time due to an illness. I chated with a representative after logging into my account regarding my opitions to ensure I protect my credit and bring my account current. \n",
      "\n",
      "She advised me that before an extenstion could be done, I had to make a payment in the amount of {$270.00}. I reviewed my finances, as I am playing catch up on all my bills and made this payment on Monday XX/XX/XXXX. This rep advised me, once this payment posts to my account to contact Ally back for an extention or to have a payment deffered to the end of my loan. \n",
      "\n",
      "With this in mind, I contacted Ally again today and chatted with XXXX. I explained all of the above and the information I was provided when I chatted with the rep last week. She asked several questions and advised me that a one or two month  extension/deffered payment could be done however partial payment is needed! WHAT? She advised me {$230.00} or there abouts would be due within 10 days from me accepting the agreement and then the remaining bal of {$150.00} or there abouts would be due in XX/XX/XXXX. In XX/XX/XXXX, my payments of {$380.00} per month would resume. \n",
      "\n",
      "If this was the case, I SHOULD HAVE JUST BEEN OFFERED THIS WHEN I JUST MADE MY PAYMENT so that I could catch up on my bills. \n",
      "\n",
      "This company was working with XXXX in New Jersey which has since closed most likely due to illegal practices, they changed my loan company to this company after I had signed paperwork for another, kill you with interest rates and has NEVER once considered refiancing my vechile for a lower interest rate ( due to the age of the vechile other companies will not take it ) and THEY DO NOT WORK WITH YOU!\n",
      "\n",
      "Complaint :3 ----------------------------------------------------------\n",
      "nan\n",
      "\n"
     ]
    }
   ],
   "source": [
    "# close look at some of the complaints\n",
    "pd.options.display.max_colwidth = 1000\n",
    "\n",
    "for ind, complaint in enumerate(data_org['Consumer complaint narrative'][0:3]):\n",
    "    print(f\"Complaint :{ind + 1} ----------------------------------------------------------\")\n",
    "    print(complaint)\n",
    "    print()\n"
   ]
  },
  {
   "cell_type": "markdown",
   "metadata": {},
   "source": [
    "## Preprocessing\n",
    "\n",
    "For this project\n",
    "\"Consumer complaint narrative\" is the column of interest\n",
    "\n",
    "1. drop all rows with missing values for \"Consumer complaint narrative\" column\n",
    "2\n"
   ]
  },
  {
   "cell_type": "code",
   "execution_count": 6,
   "metadata": {},
   "outputs": [
    {
     "data": {
      "text/plain": [
       "1481409"
      ]
     },
     "execution_count": 6,
     "metadata": {},
     "output_type": "execute_result"
    }
   ],
   "source": [
    "data_org[\"Consumer complaint narrative\"].isna().sum()   # 1472328 of 2250582 have no complaints recorded"
   ]
  },
  {
   "cell_type": "code",
   "execution_count": 7,
   "metadata": {},
   "outputs": [],
   "source": [
    "data_org = data_org.dropna(subset=[\"Consumer complaint narrative\"])"
   ]
  },
  {
   "cell_type": "code",
   "execution_count": 8,
   "metadata": {},
   "outputs": [
    {
     "name": "stdout",
     "output_type": "stream",
     "text": [
      "Count of missing values in Consumer complaint narrative column : 0\n",
      "Total number of complaints : 786570\n"
     ]
    }
   ],
   "source": [
    "print(\"Count of missing values in Consumer complaint narrative column :\", data_org[\"Consumer complaint narrative\"].isna().sum())\n",
    "print('Total number of complaints :', data_org.shape[0])"
   ]
  },
  {
   "cell_type": "code",
   "execution_count": 9,
   "metadata": {},
   "outputs": [
    {
     "data": {
      "text/html": [
       "<div>\n",
       "<style scoped>\n",
       "    .dataframe tbody tr th:only-of-type {\n",
       "        vertical-align: middle;\n",
       "    }\n",
       "\n",
       "    .dataframe tbody tr th {\n",
       "        vertical-align: top;\n",
       "    }\n",
       "\n",
       "    .dataframe thead th {\n",
       "        text-align: right;\n",
       "    }\n",
       "</style>\n",
       "<table border=\"1\" class=\"dataframe\">\n",
       "  <thead>\n",
       "    <tr style=\"text-align: right;\">\n",
       "      <th></th>\n",
       "      <th>id</th>\n",
       "      <th>complaints</th>\n",
       "    </tr>\n",
       "  </thead>\n",
       "  <tbody>\n",
       "    <tr>\n",
       "      <th>1</th>\n",
       "      <td>3425257</td>\n",
       "      <td>I contacted Ally on Friday XX/XX/XXXX after falling behind on payments due to being out of work for a short period of time due to an illness. I chated with a representative after logging into my account regarding my opitions to ensure I protect my credit and bring my account current. \\n\\nShe advised me that before an extenstion could be done, I had to make a payment in the amount of {$270.00}. I reviewed my finances, as I am playing catch up on all my bills and made this payment on Monday XX/XX/XXXX. This rep advised me, once this payment posts to my account to contact Ally back for an extention or to have a payment deffered to the end of my loan. \\n\\nWith this in mind, I contacted Ally again today and chatted with XXXX. I explained all of the above and the information I was provided when I chatted with the rep last week. She asked several questions and advised me that a one or two month  extension/deffered payment could be done however partial payment is needed! WHAT? She advised ...</td>\n",
       "    </tr>\n",
       "    <tr>\n",
       "      <th>3</th>\n",
       "      <td>3692762</td>\n",
       "      <td>I am a victim of Identity Theft &amp; currently have an Experian account that I can view my Experian Credit Report and getting notified when there is activity on my Experian Credit Report. For the past 3 days I've spent a total of approximately 9 hours on the phone with Experian. Every time I call I get transferred repeatedly and then my last transfer and automated message states to press 1 and leave a message and someone would call me. Every time I press 1 I get an automatic message stating than you before I even leave a message and get disconnected. I call Experian again, explain what is happening and the process begins again with the same end result. I was trying to have this issue attended and resolved informally but I give up after 9 hours. There are hard hit inquiries on my Experian Credit Report that are fraud, I didn't authorize, or recall and I respectfully request that Experian remove the hard hit inquiries immediately just like they've done in the past when I was able to spe...</td>\n",
       "    </tr>\n",
       "    <tr>\n",
       "      <th>6</th>\n",
       "      <td>3299394</td>\n",
       "      <td>Hello This complaint is against the three credit reporting companies. XXXX, Trans Union and XXXX. I noticed some discrepencies on my credit report so I put a credit freeze with XXXX.on XX/XX/2019. I then notified the three credit agencies previously stated with a writtent letter dated XX/XX/2019 requesting them to verifiy certain accounts showing on my report They were a Bankruptcy and a bank account from XXXX XXXX XXXX. \\nThe response from XXXX and XXXX  was that it was verified through their third partner XXXX. That can not be correct because I have a Freeze on my XXXX XXXX account since XX/XX/XXXX. which no one can obtain my report for anything until I unfreeze it. \\nI wrote XXXX and XXXX a second letter and mailed them on XX/XX/2019 telling them that they have lied when they said that they verified the two accounts in question using XXXX because I have a freeze on my account and when I called XXXX on XX/XX/2019 they stated that no one has requested or attempted access to my acc...</td>\n",
       "    </tr>\n",
       "    <tr>\n",
       "      <th>7</th>\n",
       "      <td>3385614</td>\n",
       "      <td>I have sent out a method of verification request to the credit bureaus and all they have sent back to me was the account was verified, or that they have updated information in my credit file with the note : NOT SPECIFIED. I then sent another dispute letter regarding all incorrect, inaccurate, unverified information on the account \" XXXX XXXX XXXX  '' ( XXXX ). The creditor has \" updated the information. I recently I have noticed that Experian has not shown any time that I have disputed information with them in the past. XXXX has stated that they do not provide the documents that are required for proper verification. So I am lost, if the FCRA indeed states that method of verification is indeed the credit reporting agency obligation, then why come XXXX, Experian, and XXXX  can tell me anything different?</td>\n",
       "    </tr>\n",
       "    <tr>\n",
       "      <th>10</th>\n",
       "      <td>3294745</td>\n",
       "      <td>Two accounts are still on my credit history after contacting the credit bureau. They have the incorrect status and account balances. \\n\\nXXXX XXXX - XXXX XXXX XXXX XXXX - XXXX</td>\n",
       "    </tr>\n",
       "  </tbody>\n",
       "</table>\n",
       "</div>"
      ],
      "text/plain": [
       "         id  \\\n",
       "1   3425257   \n",
       "3   3692762   \n",
       "6   3299394   \n",
       "7   3385614   \n",
       "10  3294745   \n",
       "\n",
       "                                                                                                                                                                                                                                                                                                                                                                                                                                                                                                                                                                                                                                                                                                                                                                                                                                                                                                                                                                                                                                 complaints  \n",
       "1   I contacted Ally on Friday XX/XX/XXXX after falling behind on payments due to being out of work for a short period of time due to an illness. I chated with a representative after logging into my account regarding my opitions to ensure I protect my credit and bring my account current. \\n\\nShe advised me that before an extenstion could be done, I had to make a payment in the amount of {$270.00}. I reviewed my finances, as I am playing catch up on all my bills and made this payment on Monday XX/XX/XXXX. This rep advised me, once this payment posts to my account to contact Ally back for an extention or to have a payment deffered to the end of my loan. \\n\\nWith this in mind, I contacted Ally again today and chatted with XXXX. I explained all of the above and the information I was provided when I chatted with the rep last week. She asked several questions and advised me that a one or two month  extension/deffered payment could be done however partial payment is needed! WHAT? She advised ...  \n",
       "3   I am a victim of Identity Theft & currently have an Experian account that I can view my Experian Credit Report and getting notified when there is activity on my Experian Credit Report. For the past 3 days I've spent a total of approximately 9 hours on the phone with Experian. Every time I call I get transferred repeatedly and then my last transfer and automated message states to press 1 and leave a message and someone would call me. Every time I press 1 I get an automatic message stating than you before I even leave a message and get disconnected. I call Experian again, explain what is happening and the process begins again with the same end result. I was trying to have this issue attended and resolved informally but I give up after 9 hours. There are hard hit inquiries on my Experian Credit Report that are fraud, I didn't authorize, or recall and I respectfully request that Experian remove the hard hit inquiries immediately just like they've done in the past when I was able to spe...  \n",
       "6   Hello This complaint is against the three credit reporting companies. XXXX, Trans Union and XXXX. I noticed some discrepencies on my credit report so I put a credit freeze with XXXX.on XX/XX/2019. I then notified the three credit agencies previously stated with a writtent letter dated XX/XX/2019 requesting them to verifiy certain accounts showing on my report They were a Bankruptcy and a bank account from XXXX XXXX XXXX. \\nThe response from XXXX and XXXX  was that it was verified through their third partner XXXX. That can not be correct because I have a Freeze on my XXXX XXXX account since XX/XX/XXXX. which no one can obtain my report for anything until I unfreeze it. \\nI wrote XXXX and XXXX a second letter and mailed them on XX/XX/2019 telling them that they have lied when they said that they verified the two accounts in question using XXXX because I have a freeze on my account and when I called XXXX on XX/XX/2019 they stated that no one has requested or attempted access to my acc...  \n",
       "7                                                                                                                                                                                             I have sent out a method of verification request to the credit bureaus and all they have sent back to me was the account was verified, or that they have updated information in my credit file with the note : NOT SPECIFIED. I then sent another dispute letter regarding all incorrect, inaccurate, unverified information on the account \" XXXX XXXX XXXX  '' ( XXXX ). The creditor has \" updated the information. I recently I have noticed that Experian has not shown any time that I have disputed information with them in the past. XXXX has stated that they do not provide the documents that are required for proper verification. So I am lost, if the FCRA indeed states that method of verification is indeed the credit reporting agency obligation, then why come XXXX, Experian, and XXXX  can tell me anything different?  \n",
       "10                                                                                                                                                                                                                                                                                                                                                                                                                                                                                                                                                                                                                                                                                                                                                                                                                                                          Two accounts are still on my credit history after contacting the credit bureau. They have the incorrect status and account balances. \\n\\nXXXX XXXX - XXXX XXXX XXXX XXXX - XXXX  "
      ]
     },
     "execution_count": 9,
     "metadata": {},
     "output_type": "execute_result"
    }
   ],
   "source": [
    "# Create a new training set using just the ID and the \"Consumer complaint narrative\"\n",
    "train_x = data_org[['Complaint ID', \"Consumer complaint narrative\"]].copy()\n",
    "\n",
    "train_x = train_x.rename(columns={'Complaint ID': 'id', \"Consumer complaint narrative\": 'complaints'})\n",
    "train_x.head()"
   ]
  },
  {
   "cell_type": "code",
   "execution_count": 10,
   "metadata": {},
   "outputs": [],
   "source": [
    "def preprocess_doc(df, col_name):\n",
    "    \"\"\"\n",
    "    Function to pre-process the data\n",
    "    1. We remove NaN records, digits, stopwords, punctuations\n",
    "    2. The documents masks the phone numbers as XXX XXXX XXXX (format varies in some documents). \n",
    "       We remove this using Regex\n",
    "    input arg - df - Dataframe text document data\n",
    "                col_name - column  containing the complaints\n",
    "    output = List of tokens of each document\n",
    "    \"\"\"\n",
    "    norm_docs = []\n",
    "    is_noun_adj = lambda pos: pos[:2] == 'NN' or pos[:2] == 'JJ'\n",
    "    \n",
    "    word_tokenizer = RegexpTokenizer(r'\\w+')\n",
    "    lemma = WordNetLemmatizer()\n",
    "    stopword_list = stopwords.words('english')\n",
    "    \n",
    "    stopword_list.append(\"ex\") ## There are few documents which customer uses \"ex.\", this does not add much value as attribute so added in StopWords\n",
    "    \n",
    "    # each complaint is treated as a single document \n",
    "    progress_ind = 0\n",
    "    psum = 0\n",
    "    for doc in tqdm(df[col_name]):\n",
    "        if progress_ind == 200000:\n",
    "            psum += progress_ind\n",
    "            print(\"progress :\", psum)\n",
    "            progress_ind = 0\n",
    "  \n",
    "        progress_ind += 1\n",
    "        \n",
    "        doc_tokens = [token.strip() for token in word_tokenizer.tokenize(doc)]\n",
    "        doc_tokens = [word for (word, pos) in pos_tag(doc_tokens) if is_noun_adj(pos)] \n",
    "        doc_string = ' '.join(doc_tokens)\n",
    "        \n",
    "        doc_string = doc_string.lower()\n",
    "        doc_string = re.sub('[^a-zA-Z]',\" \", doc_string)\n",
    "        doc_string = re.sub('xxxx',\"x\", doc_string)\n",
    "        \n",
    "        doc_tokens = [token.strip() for token in word_tokenizer.tokenize(doc_string)]\n",
    "        doc_tokens = [lemma.lemmatize(token) for token in doc_tokens if not token.isnumeric()] \n",
    "        doc_tokens = [word for word in doc_tokens if (word not in stopword_list)]\n",
    "        doc_tokens = [word for word in doc_tokens if len(word) > 2]\n",
    "        doc_tokens = list(filter(None, doc_tokens))\n",
    "        \n",
    "        \n",
    "        if doc_tokens:\n",
    "            norm_docs.append(doc_tokens)\n",
    "    \n",
    "    return norm_docs\n",
    "\n"
   ]
  },
  {
   "cell_type": "markdown",
   "metadata": {},
   "source": [
    "### Note: Below cell takes atleast 10-15 minutes"
   ]
  },
  {
   "cell_type": "code",
   "execution_count": 11,
   "metadata": {},
   "outputs": [
    {
     "name": "stderr",
     "output_type": "stream",
     "text": [
      " 25%|██▌       | 200011/786570 [31:18<1:25:20, 114.55it/s]"
     ]
    },
    {
     "name": "stdout",
     "output_type": "stream",
     "text": [
      "progress : 200000\n"
     ]
    },
    {
     "name": "stderr",
     "output_type": "stream",
     "text": [
      " 51%|█████     | 400032/786570 [1:03:23<1:04:41, 99.59it/s] "
     ]
    },
    {
     "name": "stdout",
     "output_type": "stream",
     "text": [
      "progress : 400000\n"
     ]
    },
    {
     "name": "stderr",
     "output_type": "stream",
     "text": [
      " 76%|███████▋  | 600020/786570 [1:32:40<21:37, 143.77it/s]  "
     ]
    },
    {
     "name": "stdout",
     "output_type": "stream",
     "text": [
      "progress : 600000\n"
     ]
    },
    {
     "name": "stderr",
     "output_type": "stream",
     "text": [
      "100%|██████████| 786570/786570 [1:58:39<00:00, 110.48it/s] "
     ]
    },
    {
     "name": "stdout",
     "output_type": "stream",
     "text": [
      "Total complains before preprocessing = 786570\n",
      "Total complains after preprocessing = 786382\n",
      "CPU times: user 1h 57min 12s, sys: 1min 32s, total: 1h 58min 45s\n",
      "Wall time: 1h 58min 39s\n"
     ]
    },
    {
     "name": "stderr",
     "output_type": "stream",
     "text": [
      "\n"
     ]
    }
   ],
   "source": [
    "%%time\n",
    "norm_docs = preprocess_doc(train_x,\"complaints\")\n",
    "norm_docs[0:2]\n",
    "\n",
    "all_compliants = train_x.shape[0]\n",
    "total_complaints = len(norm_docs)\n",
    "\n",
    "print(f\"Total complains before preprocessing = {all_compliants}\")\n",
    "print(f\"Total complains after preprocessing = {total_complaints}\")"
   ]
  },
  {
   "cell_type": "code",
   "execution_count": 12,
   "metadata": {},
   "outputs": [
    {
     "data": {
      "text/plain": [
       "[['victim',\n",
       "  'identity',\n",
       "  'theft',\n",
       "  'experian',\n",
       "  'account',\n",
       "  'experian',\n",
       "  'credit',\n",
       "  'report',\n",
       "  'activity',\n",
       "  'experian',\n",
       "  'credit',\n",
       "  'report',\n",
       "  'past',\n",
       "  'day',\n",
       "  'total',\n",
       "  'hour',\n",
       "  'phone',\n",
       "  'experian',\n",
       "  'every',\n",
       "  'time',\n",
       "  'last',\n",
       "  'transfer',\n",
       "  'automated',\n",
       "  'message',\n",
       "  'state',\n",
       "  'message',\n",
       "  'someone',\n",
       "  'every',\n",
       "  'time',\n",
       "  'automatic',\n",
       "  'message',\n",
       "  'message',\n",
       "  'experian',\n",
       "  'process',\n",
       "  'end',\n",
       "  'result',\n",
       "  'issue',\n",
       "  'hour',\n",
       "  'hard',\n",
       "  'hit',\n",
       "  'inquiry',\n",
       "  'experian',\n",
       "  'credit',\n",
       "  'report',\n",
       "  'fraud',\n",
       "  'authorize',\n",
       "  'recall',\n",
       "  'experian',\n",
       "  'hard',\n",
       "  'hit',\n",
       "  'inquiry',\n",
       "  'past',\n",
       "  'able',\n",
       "  'live',\n",
       "  'experian',\n",
       "  'representative',\n",
       "  'united',\n",
       "  'state',\n",
       "  'hard',\n",
       "  'hit',\n",
       "  'inquiry']]"
      ]
     },
     "execution_count": 12,
     "metadata": {},
     "output_type": "execute_result"
    }
   ],
   "source": [
    "norm_docs[1:2]"
   ]
  },
  {
   "cell_type": "code",
   "execution_count": 13,
   "metadata": {},
   "outputs": [],
   "source": [
    "# Global Variables\n",
    "TOTAL_COMPLAINTS = total_complaints"
   ]
  },
  {
   "cell_type": "code",
   "execution_count": 14,
   "metadata": {},
   "outputs": [
    {
     "name": "stdout",
     "output_type": "stream",
     "text": [
      "['ally', 'friday', 'payment', 'due', 'work', 'short', 'period', 'time', 'due', 'illness', 'representative', 'account', 'opitions', 'credit', 'account', 'current', 'extenstion', 'payment', 'amount', 'finance', 'catch', 'bill', 'payment', 'monday', 'rep', 'payment', 'account', 'ally', 'extention', 'payment', 'end', 'loan', 'mind', 'ally', 'today', 'information', 'rep', 'last', 'week', 'several', 'question', 'month', 'extension', 'payment', 'partial', 'payment', 'abouts', 'due', 'day', 'agreement']\n"
     ]
    }
   ],
   "source": [
    "print(norm_docs[0][:50])"
   ]
  },
  {
   "cell_type": "markdown",
   "metadata": {},
   "source": [
    "## Create and Process Model using Gensim\n",
    "\n",
    "1. Create Bi-gram Model - A list of bigram words, gensim can select individual words \n",
    "                         (eg list('neural_network', 'solution', 'concentrator', 'assignment')\n",
    "                         Note: neural and Network are seperate words joined by delimiter \"-\"\n",
    "2. Create Dictionary {index : word}\n",
    "3. Create Bag of Words (BOW) - {index : Frequency of word}\n",
    "           \n",
    "           \n",
    "        gensim.model.Phrases + (Normalized Documents) -- 1.---> bigram_phrases     \n",
    "                 |________________|          |                       |\n",
    "                                             +                       +\n",
    "                                             |                       |\n",
    "            bigram_docs_corpus <---3.----- bigram_model <-- 2.--- gensim.models.phrases.Phraser\n",
    "                 |        |\n",
    "                 +        |__________________+_________ doc2bow(each doc)___5.__\n",
    "                 |                           |                                |\n",
    "            gensim.corpora.Dictionary - 4.--> dictionary                    bow_docs (BOW)\n",
    "                                            {index : Word}                 {index : Freq}\n",
    "                           \n",
    "```\n",
    "bigram_phrases = gensim.models.Phrases(norm_docs, ....)\n",
    "bigram_model =  gensim.models.phrases.Phraser(bigram_phrases)\n",
    "bigram_docs_corpus = [bigram_model[doc] for doc in norm_docs]\n",
    "dictionary = gensim.corpora.Dictionary(bigram_docs_corpus)\n",
    "bow_docs =  [dictionary.doc2bow(text) for text in bigram_docs_corpus]\n",
    "```"
   ]
  },
  {
   "cell_type": "code",
   "execution_count": 15,
   "metadata": {},
   "outputs": [],
   "source": [
    "def create_bigram_model(norm_docs, min_count=20, threshold = 20, delimiter='_'):\n",
    "    \"\"\"\n",
    "    Create BIGRAM model\n",
    "    input: norm_docs - documents to be processed\n",
    "           min_count - Ignore all words and bigrams with total collected count lower than this value.\n",
    "           threshold - Represent a score threshold for forming the phrases (higher means fewer phrases).\n",
    "           delimiter - Glue character used to join collocation tokens.\n",
    "    output: gensim model\n",
    "    \"\"\"\n",
    "    # creates instance of class 'gensim.models.phrases.Phrases' using the norm_docs\n",
    "    #bigram_phrases = gensim.models.Phrases(norm_docs, \n",
    "    bigram_phrases = Phrases(norm_docs, \n",
    "                               min_count = min_count,  # consider tokens that appear atleast in 10 documents \n",
    "                               threshold = threshold,\n",
    "                               delimiter = delimiter)\n",
    "\n",
    "    # creates instance of class  'gensim.models.phrases.FrozenPhrases'\n",
    "    #bigram_model =  gensim.models.phrases.Phraser(bigram_phrases)\n",
    "    bigram_model =  Phraser(bigram_phrases)\n",
    "    \n",
    "    return bigram_model\n",
    "\n",
    "def create_bigram_corpus(bigram_model, norm_docs):\n",
    "    bigram_docs_corpus = [bigram_model[doc] for doc in norm_docs]   # generate bigrams\n",
    "    return bigram_docs_corpus\n",
    "    \n",
    "\n",
    "def create_dictionary(bigram_docs_corpus, total_complaints):\n",
    "    #dictionary = gensim.corpora.Dictionary(bigram_docs_corpus) # generate dictionary {index:word}\n",
    "    dictionary = Dictionary(bigram_docs_corpus) # generate dictionary {index:word}\n",
    "    \n",
    "    # Filter out words that occur less than \"no_below\"# of docs or more than \"no_above\"% of the documents\n",
    "    no_below = int(0.1 * total_complaints)\n",
    "    no_above = 0.6  # 60%\n",
    "    dictionary.filter_extremes(no_below = no_below, no_above = no_above)\n",
    "    \n",
    "    return dictionary\n",
    "\n",
    "def create_bow(dictionary, bigram_docs_corpus):\n",
    "    bow_docs =  [dictionary.doc2bow(text) for text in bigram_docs_corpus]\n",
    "    return bow_docs\n",
    "    "
   ]
  },
  {
   "cell_type": "code",
   "execution_count": 16,
   "metadata": {},
   "outputs": [
    {
     "name": "stdout",
     "output_type": "stream",
     "text": [
      "CPU times: user 3min 6s, sys: 1.52 s, total: 3min 7s\n",
      "Wall time: 3min 7s\n"
     ]
    }
   ],
   "source": [
    "%%time\n",
    "min_count = 0.2 * total_complaints\n",
    "threshold = 30\n",
    "\n",
    "bigram_model = create_bigram_model(norm_docs, min_count, threshold, '_')\n",
    "bigram_docs_corpus = create_bigram_corpus(bigram_model, norm_docs)\n",
    "dictionary = create_dictionary(bigram_docs_corpus, TOTAL_COMPLAINTS)\n",
    "bow_docs = create_bow(dictionary, bigram_docs_corpus)"
   ]
  },
  {
   "cell_type": "code",
   "execution_count": 17,
   "metadata": {},
   "outputs": [
    {
     "name": "stdout",
     "output_type": "stream",
     "text": [
      "[(0, 1), (3, 3), (4, 1), (12, 2), (13, 1), (14, 1), (15, 3)]\n"
     ]
    }
   ],
   "source": [
    "print(bow_docs[1][:50])"
   ]
  },
  {
   "cell_type": "code",
   "execution_count": 18,
   "metadata": {},
   "outputs": [
    {
     "name": "stdout",
     "output_type": "stream",
     "text": [
      "['account', 'credit', 'day', 'time', 'issue', 'phone', 'report']\n"
     ]
    }
   ],
   "source": [
    "print([dictionary[idx] for idx, freq in bow_docs[1][:50]])"
   ]
  },
  {
   "cell_type": "markdown",
   "metadata": {},
   "source": [
    "## Applying LDA Framework\n",
    "\n",
    "\n",
    "<img src=./images/lda_framework.jpg>"
   ]
  },
  {
   "cell_type": "markdown",
   "metadata": {},
   "source": [
    "### Steps:\n",
    "1. **Initialize** the necessary **parameters**\n",
    "\n",
    "2. For each document **randomly initialize each word** to one of the K Topics\n",
    "\n",
    "3. Start an iterative process - with **several iterations** : <br>\n",
    "<span style='color:blue'>For each document **D**</span> <br>\n",
    "  <span style='color:blue'>For each word **W** in the document</span> and <br>\n",
    "    <span style='color:blue'>For each topic **T**</span>\n",
    "\n",
    "   A. <span style='color:maroon'>Compute **P(T | D)** which is <u>proportion of words in **D**</u> assigned to topic **T**</span>\n",
    "\n",
    "   B. <span style='color:maroon'>Compute **P(W | T)** which is <u>proportion of assignments to topic **T**</u>\n",
    "      over all documents having the word **W**</span>\n",
    "\n",
    "   C. <span style='color:maroon'>Reassign word **W** with topic **T** with probability **P(T|D)** x **P(W|T)** considering all other words and their topic assignments </span>\n",
    "   \n",
    "\n",
    "This process will return Topic Mixtures for each document and <br>\n",
    "Next generate the consituents of each topic from the terms that point to that topic\n",
    "\n",
    "- This method is known as **Collapsed Gibbs Sampling**\n"
   ]
  },
  {
   "cell_type": "code",
   "execution_count": 19,
   "metadata": {},
   "outputs": [],
   "source": [
    "\n",
    "\n",
    "\n",
    "def train_model(hyperParameters):\n",
    "    \"\"\"\n",
    "    This function will train BOW and TFID\n",
    "    If the training machine does not have multicore, use gensim.models.LdaModel\n",
    "    input: model_type - 'G' for gensim model, and 'M' for 'Mallet' model\n",
    "    \"\"\"\n",
    "    print(\"------------ In Training ------------------------\")\n",
    "    lda_model = LdaMulticore(**hyperParameters)\n",
    "    #lda_model = LdaModel(**hyperParameters)\n",
    "    \n",
    "    return lda_model\n",
    "\n",
    "def evaluate_model(model, evalParameters):\n",
    "    \"\"\"\n",
    "    Evaluate Coherence and Perplexity for the model\n",
    "    \"\"\"    \n",
    "    #cv_coherence    = gensim.models.CoherenceModel(model=model, coherence = 'c_v', **evalParameters )\n",
    "    #umass_coherence = gensim.models.CoherenceModel(model=model, coherence = 'u_mass', **evalParameters)\n",
    "    \n",
    "    cv_coherence    = CoherenceModel(model=model, coherence = 'c_v', **evalParameters )\n",
    "    umass_coherence = CoherenceModel(model=model, coherence = 'u_mass', **evalParameters)\n",
    "    \n",
    "    \n",
    "    avg_coherence_cv = cv_coherence.get_coherence()\n",
    "    avg_coherence_umass = umass_coherence.get_coherence()\n",
    "    perplexity = model.log_perplexity(evalParameters['corpus'])  \n",
    "    \n",
    "    return avg_coherence_cv, avg_coherence_umass, perplexity\n",
    "\n",
    "\n",
    "def evaluate_best_model_topics(hyperParameters,\n",
    "                                evalParameters,\n",
    "                                num_of_passes,\n",
    "                                num_of_topics,\n",
    "                                workers,\n",
    "                                perplexity_logger   # Not using in first attempt\n",
    "                                ):\n",
    "    \"\"\"\n",
    "    Evaluate Model performance to find the Best Model, Optimal number of Topics and Passes\n",
    "    \"\"\"\n",
    "    models_evaluated = []\n",
    "    perf_metrics = []\n",
    "    \n",
    "    for j in tqdm(range(len(num_of_topics))):\n",
    "        hyperParameters['num_topics'] = num_of_topics[j] \n",
    "        hyperParameters['random_state'] = num_of_topics[j] \n",
    "\n",
    "        lda_model = train_model(hyperParameters)\n",
    "        avg_coh_cv, avg_coh_umass, perplexity = evaluate_model(lda_model, \n",
    "                                                               evalParameters)\n",
    "\n",
    "        models_evaluated.append(lda_model)\n",
    "        perf_metrics.append((num_of_topics[j], avg_coh_cv, avg_coh_umass, perplexity))\n",
    "            \n",
    "            \n",
    "    return models_evaluated, perf_metrics\n"
   ]
  },
  {
   "cell_type": "code",
   "execution_count": 21,
   "metadata": {},
   "outputs": [
    {
     "name": "stderr",
     "output_type": "stream",
     "text": [
      "\r",
      "  0%|          | 0/8 [00:00<?, ?it/s]"
     ]
    },
    {
     "name": "stdout",
     "output_type": "stream",
     "text": [
      "------------ In Training ------------------------\n"
     ]
    },
    {
     "name": "stderr",
     "output_type": "stream",
     "text": [
      "\r",
      " 12%|█▎        | 1/8 [2:09:37<15:07:24, 7777.78s/it]"
     ]
    },
    {
     "name": "stdout",
     "output_type": "stream",
     "text": [
      "------------ In Training ------------------------\n"
     ]
    },
    {
     "name": "stderr",
     "output_type": "stream",
     "text": [
      "\r",
      " 25%|██▌       | 2/8 [4:12:35<12:45:46, 7657.74s/it]"
     ]
    },
    {
     "name": "stdout",
     "output_type": "stream",
     "text": [
      "------------ In Training ------------------------\n"
     ]
    },
    {
     "name": "stderr",
     "output_type": "stream",
     "text": [
      "\r",
      " 38%|███▊      | 3/8 [6:20:23<10:38:24, 7660.82s/it]"
     ]
    },
    {
     "name": "stdout",
     "output_type": "stream",
     "text": [
      "------------ In Training ------------------------\n"
     ]
    },
    {
     "name": "stderr",
     "output_type": "stream",
     "text": [
      "\r",
      " 50%|█████     | 4/8 [8:23:24<8:25:07, 7576.82s/it] "
     ]
    },
    {
     "name": "stdout",
     "output_type": "stream",
     "text": [
      "------------ In Training ------------------------\n"
     ]
    },
    {
     "name": "stderr",
     "output_type": "stream",
     "text": [
      "\r",
      " 62%|██████▎   | 5/8 [10:23:12<6:13:00, 7460.12s/it]"
     ]
    },
    {
     "name": "stdout",
     "output_type": "stream",
     "text": [
      "------------ In Training ------------------------\n"
     ]
    },
    {
     "name": "stderr",
     "output_type": "stream",
     "text": [
      "\r",
      " 75%|███████▌  | 6/8 [12:25:46<4:07:36, 7428.28s/it]"
     ]
    },
    {
     "name": "stdout",
     "output_type": "stream",
     "text": [
      "------------ In Training ------------------------\n"
     ]
    },
    {
     "name": "stderr",
     "output_type": "stream",
     "text": [
      "\r",
      " 88%|████████▊ | 7/8 [14:20:33<2:01:06, 7266.04s/it]"
     ]
    },
    {
     "name": "stdout",
     "output_type": "stream",
     "text": [
      "------------ In Training ------------------------\n"
     ]
    },
    {
     "name": "stderr",
     "output_type": "stream",
     "text": [
      "100%|██████████| 8/8 [16:12:03<00:00, 7290.40s/it]  "
     ]
    },
    {
     "name": "stdout",
     "output_type": "stream",
     "text": [
      "CPU times: user 12h 36min 36s, sys: 1h 34min 22s, total: 14h 10min 58s\n",
      "Wall time: 16h 12min 3s\n"
     ]
    },
    {
     "name": "stderr",
     "output_type": "stream",
     "text": [
      "\n"
     ]
    }
   ],
   "source": [
    "%%time\n",
    "from gensim.models.callbacks import PerplexityMetric\n",
    "from tqdm import tqdm\n",
    "\n",
    "perplexity_logger = PerplexityMetric(corpus=bow_docs, logger='shell')\n",
    "\n",
    "#num_of_passes = [5]\n",
    "num_of_passes = 5\n",
    "num_of_topics = [5, 10, 15, 20, 25, 30, 35, 40]\n",
    "\n",
    "\n",
    "workers = 2\n",
    "hyperParameters ={'corpus' : bow_docs, \n",
    "                 'id2word' : dictionary,\n",
    "                 #'alpha' : 'auto', \n",
    "                 'chunksize' : 800000,\n",
    "                 'eta' : 'auto',\n",
    "                  'passes' : 5, \n",
    "                 }\n",
    "\n",
    "evalParameters = { 'corpus' : bow_docs, \n",
    "                   'texts' : bigram_docs_corpus, \n",
    "                   'dictionary' : dictionary\n",
    "                 }\n",
    "\n",
    "gensim_models, gensim_perf = evaluate_best_model_topics(hyperParameters,\n",
    "                                                        evalParameters,\n",
    "                                                        num_of_passes,\n",
    "                                                        num_of_topics,\n",
    "                                                        workers,\n",
    "                                                        perplexity_logger)\n"
   ]
  },
  {
   "cell_type": "code",
   "execution_count": 22,
   "metadata": {},
   "outputs": [],
   "source": [
    "metrics_df = pd.DataFrame({'Topics' :[metric[0] for metric in gensim_perf],\n",
    "                           'Coh_CV' : [metric[1] for metric in gensim_perf],\n",
    "                           'Cov_UMASS' : [metric[2] for metric in gensim_perf],\n",
    "                           'Perplexity': [metric[3] for metric in gensim_perf]})\n",
    "\n",
    "metrics_df.head()\n",
    "metrics_df_backup = metrics_df.copy()"
   ]
  },
  {
   "cell_type": "code",
   "execution_count": 30,
   "metadata": {},
   "outputs": [
    {
     "data": {
      "text/plain": [
       "[0.3899733265745285,\n",
       " 0.3731753508523855,\n",
       " 0.3795137194657018,\n",
       " 0.3859574353435599,\n",
       " 0.37489476596824334,\n",
       " 0.3715964951047674,\n",
       " 0.3769747006297408,\n",
       " 0.38169198952793043]"
      ]
     },
     "execution_count": 30,
     "metadata": {},
     "output_type": "execute_result"
    }
   ],
   "source": [
    "avg_coherence_cv_list = list(metrics_df.Coh_CV)\n",
    "avg_coherence_cv_list"
   ]
  },
  {
   "cell_type": "code",
   "execution_count": 53,
   "metadata": {
    "scrolled": true
   },
   "outputs": [
    {
     "data": {
      "image/png": "[encoded data removed]",
      "text/plain": [
       "<Figure size 864x432 with 1 Axes>"
      ]
     },
     "metadata": {},
     "output_type": "display_data"
    }
   ],
   "source": [
    "import matplotlib.pyplot as plt\n",
    "\n",
    "plt.style.use('fivethirtyeight')\n",
    "\n",
    "avg_coherence_cv_list = list\n",
    "\n",
    "#x_ax = num_of_topics = [4, 6, 8, 10, 12, 14, 16, 18, 20]\n",
    "x_ax = num_of_topics = [5, 10, 15, 20, 25, 30, 35, 40]\n",
    "y_ax = metrics_df.Coh_CV\n",
    "\n",
    "end=45; start=5; step=5;\n",
    "x = range(start, end, step)\n",
    "\n",
    "plt.figure(figsize=(12, 6))\n",
    "plt.plot(x, y_ax, c = 'r')\n",
    "plt.axhline(y=0.395, c = 'k', linestyle='--', linewidth=2)\n",
    "plt.rcParams['figure.facecolor'] = 'white'\n",
    "xl = plt.xlabel('Number of Topics')\n",
    "yl = plt.ylabel('Coherence Score-CV')"
   ]
  },
  {
   "cell_type": "code",
   "execution_count": 55,
   "metadata": {},
   "outputs": [
    {
     "data": {
      "image/png": "[encoded data removed]",
      "text/plain": [
       "<Figure size 864x432 with 1 Axes>"
      ]
     },
     "metadata": {},
     "output_type": "display_data"
    }
   ],
   "source": [
    "import matplotlib.pyplot as plt\n",
    "\n",
    "plt.style.use('fivethirtyeight')\n",
    "\n",
    "#x_ax = num_of_topics = [4, 6, 8, 10, 12, 14, 16, 18, 20]\n",
    "x_ax =  [5, 10, 15, 20, 25, 30, 35, 40]\n",
    "y_ax = metrics_df.Cov_UMASS\n",
    "\n",
    "end=45; start=5; step=5;\n",
    "x = range(start, end, step)\n",
    "\n",
    "plt.figure(figsize=(12, 6))\n",
    "plt.plot(x, y_ax, c = 'r')\n",
    "plt.axhline(y=-1.35, c = 'k', linestyle='--', linewidth=2)\n",
    "plt.rcParams['figure.facecolor'] = 'white'\n",
    "xl = plt.xlabel('Number of Topics')\n",
    "yl = plt.ylabel('Coherence Score-UMASS')"
   ]
  },
  {
   "cell_type": "code",
   "execution_count": 57,
   "metadata": {},
   "outputs": [
    {
     "data": {
      "image/png": "[encoded data removed]",
      "text/plain": [
       "<Figure size 864x432 with 1 Axes>"
      ]
     },
     "metadata": {},
     "output_type": "display_data"
    }
   ],
   "source": [
    "import matplotlib.pyplot as plt\n",
    "\n",
    "plt.style.use('fivethirtyeight')\n",
    "\n",
    "x_ax = num_of_topics = [4, 6, 8, 10, 12, 14, 16, 18, 20]\n",
    "x_ax =  [5, 10, 15, 20, 25, 30, 35, 40]\n",
    "y_ax = metrics_df.Perplexity\n",
    "\n",
    "plt.figure(figsize=(12, 6))\n",
    "plt.plot(x_ax, y_ax, c = 'r')\n",
    "plt.axhline(y=-3.3, c = 'k', linestyle='--', linewidth=2)\n",
    "plt.rcParams['figure.facecolor'] = 'white'\n",
    "xl = plt.xlabel('Number of Topics')\n",
    "yl = plt.ylabel('Perplexity')"
   ]
  },
  {
   "cell_type": "code",
   "execution_count": null,
   "metadata": {},
   "outputs": [],
   "source": []
  },
  {
   "cell_type": "code",
   "execution_count": 28,
   "metadata": {},
   "outputs": [
    {
     "name": "stdout",
     "output_type": "stream",
     "text": [
      "No_of_Topics = = 5, avg_coh_cv = 0.3899733265745285, avg_coh_umass = -1.3947801735236611, perplexity = -3.323338230257643\n",
      "No_of_Topics = = 10, avg_coh_cv = 0.3731753508523855, avg_coh_umass = -1.423964630266069, perplexity = -3.310702876564028\n",
      "No_of_Topics = = 15, avg_coh_cv = 0.3795137194657018, avg_coh_umass = -1.4068982675846338, perplexity = -3.3059743167742877\n",
      "No_of_Topics = = 20, avg_coh_cv = 0.3859574353435599, avg_coh_umass = -1.4229964241598492, perplexity = -3.321004078714127\n",
      "No_of_Topics = = 25, avg_coh_cv = 0.37489476596824334, avg_coh_umass = -1.4453894948360055, perplexity = -3.3371268405887107\n",
      "No_of_Topics = = 30, avg_coh_cv = 0.3715964951047674, avg_coh_umass = -1.4583969125116323, perplexity = -3.32249696488447\n",
      "No_of_Topics = = 35, avg_coh_cv = 0.3769747006297408, avg_coh_umass = -1.4278868919634768, perplexity = -3.350714759162554\n",
      "No_of_Topics = = 40, avg_coh_cv = 0.38169198952793043, avg_coh_umass = -1.427102062786848, perplexity = -3.3599544268054546\n"
     ]
    }
   ],
   "source": [
    "for perf in gensim_perf:\n",
    "    print(f\"No_of_Topics = = {perf[0]}, avg_coh_cv = {perf[1]}, avg_coh_umass = {perf[2]}, perplexity = {perf[3]}\")"
   ]
  },
  {
   "cell_type": "code",
   "execution_count": 60,
   "metadata": {},
   "outputs": [
    {
     "name": "stdout",
     "output_type": "stream",
     "text": [
      "------------ In Training ------------------------\n",
      "Number of Topics = 20\n",
      "avg_coh_cv = 0.38329506160256777/n, avg_coh_umass=-1.4351760027566174/n, perplexity=-3.2899982372394008/n\n"
     ]
    }
   ],
   "source": [
    "# Considering  above graphs we choose 20 as Optimal number of Topics\n",
    "\n",
    "\n",
    "workers = 2\n",
    "hyperParameters ={'corpus' : bow_docs, \n",
    "                 'id2word' : dictionary,\n",
    "                 #'alpha' : 'auto', \n",
    "                 'chunksize' : 800000,\n",
    "                 'eta' : 'auto',\n",
    "                  'passes' : 10, \n",
    "                  'num_topics' : 20,\n",
    "                  'random_state' : 42\n",
    "                 }\n",
    "\n",
    "evalParameters = { 'corpus' : bow_docs, \n",
    "                   'texts' : bigram_docs_corpus, \n",
    "                   'dictionary' : dictionary\n",
    "                 }\n",
    "\n",
    "\n",
    "lda_model = train_model(hyperParameters)\n",
    "avg_coh_cv, avg_coh_umass, perplexity = evaluate_model(lda_model,evalParameters)\n",
    "\n",
    "print(\"Number of Topics = 20\" )\n",
    "print(f\"avg_coh_cv = {avg_coh_cv}/n, avg_coh_umass={avg_coh_umass}/n, perplexity={perplexity}/n\")"
   ]
  },
  {
   "cell_type": "code",
   "execution_count": 63,
   "metadata": {},
   "outputs": [
    {
     "name": "stdout",
     "output_type": "stream",
     "text": [
      "Topic: 1\n",
      "['day', 'letter', 'dispute', 'time', 'account', 'credit', 'due', 'date', 'report', 'information']\n",
      "\n",
      "Topic: 2\n",
      "['name', 'account', 'amount', 'number', 'credit', 'report', 'information', 'due', 'time', 'balance']\n",
      "\n",
      "Topic: 3\n",
      "['payment', 'amount', 'balance', 'due', 'month', 'account', 'date', 'time', 'late', 'letter']\n",
      "\n",
      "Topic: 4\n",
      "['bank', 'payment', 'account', 'new', 'day', 'time', 'money', 'month', 'due', 'charge']\n",
      "\n",
      "Topic: 5\n",
      "['account', 'bank', 'card', 'service', 'time', 'credit', 'charge', 'money', 'day', 'year']\n",
      "\n",
      "Topic: 6\n",
      "['card', 'charge', 'credit', 'balance', 'account', 'letter', 'amount', 'month', 'time', 'bank']\n",
      "\n",
      "Topic: 7\n",
      "['information', 'dispute', 'month', 'credit', 'time', 'report', 'several', 'account', 'company', 'payment']\n",
      "\n",
      "Topic: 8\n",
      "['mortgage', 'payment', 'company', 'month', 'bank', 'account', 'letter', 'year', 'time', 'new']\n",
      "\n",
      "Topic: 9\n",
      "['consumer', 'information', 'reporting', 'agency', 'credit', 'report', 'account', 'date', 'request', 'service']\n",
      "\n",
      "Topic: 10\n",
      "['company', 'complaint', 'date', 'request', 'account', 'collection', 'credit', 'information', 'debt', 'reporting']\n",
      "\n",
      "Topic: 11\n",
      "['credit', 'report', 'information', 'bureau', 'account', 'reporting', 'letter', 'please', 'company', 'dispute']\n",
      "\n",
      "Topic: 12\n",
      "['money', 'time', 'company', 'information', 'call', 'day', 'service', 'phone', 'issue', 'consumer']\n",
      "\n",
      "Topic: 13\n",
      "['number', 'phone', 'call', 'service', 'time', 'day', 'issue', 'complaint', 'account', 'company']\n",
      "\n",
      "Topic: 14\n",
      "['loan', 'payment', 'year', 'time', 'month', 'mortgage', 'due', 'company', 'amount', 'new']\n",
      "\n",
      "Topic: 15\n",
      "['debt', 'collection', 'company', 'letter', 'credit', 'agency', 'amount', 'account', 'information', 'time']\n",
      "\n",
      "Topic: 16\n",
      "['credit', 'payment', 'late', 'card', 'report', 'time', 'account', 'month', 'due', 'year']\n",
      "\n",
      "Topic: 17\n",
      "['account', 'month', 'payment', 'time', 'due', 'call', 'several', 'company', 'phone', 'year']\n",
      "\n",
      "Topic: 18\n",
      "['card', 'company', 'time', 'year', 'please', 'issue', 'several', 'credit', 'name', 'number']\n",
      "\n",
      "Topic: 19\n",
      "['account', 'credit', 'report', 'please', 'number', 'balance', 'payment', 'information', 'company', 'time']\n",
      "\n",
      "Topic: 20\n",
      "['collection', 'credit', 'report', 'agency', 'account', 'debt', 'date', 'company', 'year', 'bureau']\n",
      "\n"
     ]
    }
   ],
   "source": [
    "NO_OF_TOPICS = 20\n",
    "topics = [[(term, round(wt, 3)) for term, wt in lda_model.show_topic(n, topn=10)] for n in range(0, NO_OF_TOPICS)]\n",
    "\n",
    "for idx, topic in enumerate(topics):\n",
    "  print(\"Topic:\", idx+1)\n",
    "  print([term for term, wt in topic])\n",
    "  print()"
   ]
  },
  {
   "cell_type": "code",
   "execution_count": null,
   "metadata": {},
   "outputs": [],
   "source": []
  }
 ],
 "metadata": {
  "kernelspec": {
   "display_name": "Python 3",
   "language": "python",
   "name": "python3"
  },
  "language_info": {
   "codemirror_mode": {
    "name": "ipython",
    "version": 3
   },
   "file_extension": ".py",
   "mimetype": "text/x-python",
   "name": "python",
   "nbconvert_exporter": "python",
   "pygments_lexer": "ipython3",
   "version": "3.7.6"
  }
 },
 "nbformat": 4,
 "nbformat_minor": 4
}
